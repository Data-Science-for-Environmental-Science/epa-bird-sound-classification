{
 "cells": [
  {
   "cell_type": "code",
   "execution_count": null,
   "metadata": {},
   "outputs": [],
   "source": [
    "import os\n",
    "import awswrangler as wr\n",
    "from dotenv import load_dotenv\n",
    "from s3pathlib import S3Path\n",
    "\n",
    "if \"notebook\" in os.getcwd():\n",
    "    os.chdir(\"..\")\n",
    "\n",
    "from src.notebook_util import setup_epa_s3_session"
   ]
  },
  {
   "cell_type": "code",
   "execution_count": null,
   "metadata": {},
   "outputs": [],
   "source": [
    "epa_boto3_session = setup_epa_s3_session()\n",
    "\n",
    "bird_object_list = wr.s3.list_objects(\n",
    "    f\"s3://{os.environ['epa_bucket']}/\",\n",
    "    boto3_session=epa_boto3_session\n",
    ")"
   ]
  },
  {
   "cell_type": "code",
   "execution_count": null,
   "metadata": {},
   "outputs": [],
   "source": [
    "def eval_object_length(s3uri, target_size, boto_session):\n",
    "    result = wr.s3.describe_objects(\n",
    "        s3uri,\n",
    "        boto3_session=boto_session,\n",
    "    )\n",
    "\n",
    "    object_size = int(result[s3uri][\"ContentLength\"])\n",
    "\n",
    "    if object_size > target_size:\n",
    "        return True\n",
    "    else:\n",
    "        return False"
   ]
  },
  {
   "cell_type": "code",
   "execution_count": null,
   "metadata": {},
   "outputs": [],
   "source": [
    "locations_of_interest = [\"AVLF-2\", \"AVCR-6\", \"AVCR-8\", \"AVPP-3\"]"
   ]
  },
  {
   "cell_type": "code",
   "execution_count": null,
   "metadata": {},
   "outputs": [],
   "source": [
    "for s3_file_path in bird_object_list:\n",
    "    epa_s3path = S3Path.from_s3_uri(s3_file_path)\n",
    "\n",
    "    epa_s3path_parts = epa_s3path.parts\n",
    "    epa_s3path_parent = epa_s3path.parent\n",
    "\n",
    "    mtsu_s3path = epa_s3path.copy()\n",
    "    mtsu_s3path = mtsu_s3path.change(new_bucket=\"mtsu-bird-sound-data-bucket\")\n",
    "    mtsu_s3path_parent = mtsu_s3path.parent.uri\n",
    "    mtsu_s3path_parent = mtsu_s3path_parent.replace(\"Data\", \"Data2\")\n",
    "\n",
    "    if \"AVLF-2\" in epa_s3path_parts:\n",
    "        if eval_object_length(epa_s3path.uri, target_size=50000000, boto_session=epa_boto3_session):\n",
    "\n",
    "            print(epa_s3path.uri)\n",
    "            print(epa_s3path_parent.uri)\n",
    "            print(mtsu_s3path_parent)\n",
    "            \n",
    "        # wr.s3.copy_objects(\n",
    "        #     paths=[epa_s3path.uri],\n",
    "        #     source_path=epa_s3path_parent.uri,\n",
    "        #     target_path=mtsu_s3path_parent.uri,\n",
    "        #     boto3_session=epa_boto3_session,\n",
    "        # )"
   ]
  }
 ],
 "metadata": {
  "kernelspec": {
   "display_name": "ebsc-sandbox-B488qv8Q-py3.10",
   "language": "python",
   "name": "python3"
  },
  "language_info": {
   "codemirror_mode": {
    "name": "ipython",
    "version": 3
   },
   "file_extension": ".py",
   "mimetype": "text/x-python",
   "name": "python",
   "nbconvert_exporter": "python",
   "pygments_lexer": "ipython3",
   "version": "3.10.9"
  },
  "orig_nbformat": 4
 },
 "nbformat": 4,
 "nbformat_minor": 2
}
