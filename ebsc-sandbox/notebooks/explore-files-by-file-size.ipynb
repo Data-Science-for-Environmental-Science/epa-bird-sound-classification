{
 "cells": [
  {
   "cell_type": "code",
   "execution_count": 2,
   "metadata": {},
   "outputs": [
    {
     "name": "stderr",
     "output_type": "stream",
     "text": [
      "Pandas version 2.x was detected. Please note awswrangler currently does not support pyarrow-backed ArrowDtype DataFrames.\n"
     ]
    }
   ],
   "source": [
    "import os\n",
    "import awswrangler as wr\n",
    "from dotenv import load_dotenv\n",
    "from s3pathlib import S3Path\n",
    "\n",
    "if \"notebook\" in os.getcwd():\n",
    "    os.chdir(\"..\")\n",
    "\n",
    "from src.notebook_util import setup_epa_s3_session"
   ]
  },
  {
   "cell_type": "code",
   "execution_count": 3,
   "metadata": {},
   "outputs": [],
   "source": [
    "epa_boto3_session = setup_epa_s3_session()\n",
    "\n",
    "bird_object_list = wr.s3.list_objects(\n",
    "    f\"s3://{os.environ['epa_bucket']}/\",\n",
    "    boto3_session=epa_boto3_session\n",
    ")"
   ]
  },
  {
   "cell_type": "code",
   "execution_count": 6,
   "metadata": {},
   "outputs": [
    {
     "data": {
      "text/plain": [
       "{'s3://mtsu-bird-sound-data-bucket/ARU/2022/Loons Foot Landing/AVLF-2/Card 1 0608_0826/Data/SMU07378_20220608_215725.wav': {'ResponseMetadata': {'RequestId': '4W6F1ZNZ801FP8P4',\n",
       "   'HostId': 'VFPpGrbqk8nEPAFwvg2OlIDfq2CHq9UZQtz3ouAG0Ivh++J91rTo9Oe8Tnp85OwJDaqcMlpNTx8=',\n",
       "   'HTTPStatusCode': 200,\n",
       "   'HTTPHeaders': {'x-amz-id-2': 'VFPpGrbqk8nEPAFwvg2OlIDfq2CHq9UZQtz3ouAG0Ivh++J91rTo9Oe8Tnp85OwJDaqcMlpNTx8=',\n",
       "    'x-amz-request-id': '4W6F1ZNZ801FP8P4',\n",
       "    'date': 'Wed, 17 May 2023 21:43:55 GMT',\n",
       "    'last-modified': 'Wed, 17 May 2023 21:23:41 GMT',\n",
       "    'etag': '\"58031f9a044e5fb8f94674dcddf4971b\"',\n",
       "    'x-amz-server-side-encryption': 'AES256',\n",
       "    'accept-ranges': 'bytes',\n",
       "    'content-type': 'audio/wav',\n",
       "    'server': 'AmazonS3',\n",
       "    'content-length': '2896144'},\n",
       "   'RetryAttempts': 0},\n",
       "  'AcceptRanges': 'bytes',\n",
       "  'LastModified': datetime.datetime(2023, 5, 17, 21, 23, 41, tzinfo=tzutc()),\n",
       "  'ContentLength': 2896144,\n",
       "  'ETag': '\"58031f9a044e5fb8f94674dcddf4971b\"',\n",
       "  'ContentType': 'audio/wav',\n",
       "  'ServerSideEncryption': 'AES256',\n",
       "  'Metadata': {}}}"
      ]
     },
     "execution_count": 6,
     "metadata": {},
     "output_type": "execute_result"
    }
   ],
   "source": [
    "wr.s3.describe_objects(\n",
    "    \"s3://mtsu-bird-sound-data-bucket/ARU/2022/Loons Foot Landing/AVLF-2/Card 1 0608_0826/Data/SMU07378_20220608_215725.wav\",\n",
    "    boto3_session=epa_boto3_session,\n",
    ")"
   ]
  },
  {
   "cell_type": "code",
   "execution_count": 15,
   "metadata": {},
   "outputs": [
    {
     "data": {
      "text/plain": [
       "172801170"
      ]
     },
     "execution_count": 15,
     "metadata": {},
     "output_type": "execute_result"
    }
   ],
   "source": [
    "result = wr.s3.describe_objects(\n",
    "    \"s3://mtsu-test-bucket-sample/audio-files/SMU07154_20220421_161200.wav\",\n",
    "    boto3_session=epa_boto3_session,\n",
    ")\n",
    "result[\"s3://mtsu-test-bucket-sample/audio-files/SMU07154_20220421_161200.wav\"][\"ContentLength\"]"
   ]
  },
  {
   "cell_type": "code",
   "execution_count": 20,
   "metadata": {},
   "outputs": [],
   "source": [
    "def eval_object_length(s3uri, target_size, boto_session):\n",
    "    result = wr.s3.describe_objects(\n",
    "        s3uri,\n",
    "        boto3_session=epa_boto3_session,\n",
    "    )\n",
    "\n",
    "    object_size = int(result[s3uri][\"ContentLength\"])\n",
    "\n",
    "    if object_size > target_size:\n",
    "        return True\n",
    "    else:\n",
    "        return False"
   ]
  },
  {
   "cell_type": "code",
   "execution_count": 21,
   "metadata": {},
   "outputs": [
    {
     "data": {
      "text/plain": [
       "False"
      ]
     },
     "execution_count": 21,
     "metadata": {},
     "output_type": "execute_result"
    }
   ],
   "source": [
    "eval_object_length(\"s3://mtsu-bird-sound-data-bucket/ARU/2022/Loons Foot Landing/AVLF-2/Card 1 0608_0826/Data/SMU07378_20220608_215725.wav\", 100000000, epa_boto3_session)"
   ]
  }
 ],
 "metadata": {
  "kernelspec": {
   "display_name": "ebsc-sandbox-B488qv8Q-py3.10",
   "language": "python",
   "name": "python3"
  },
  "language_info": {
   "codemirror_mode": {
    "name": "ipython",
    "version": 3
   },
   "file_extension": ".py",
   "mimetype": "text/x-python",
   "name": "python",
   "nbconvert_exporter": "python",
   "pygments_lexer": "ipython3",
   "version": "3.10.9"
  },
  "orig_nbformat": 4
 },
 "nbformat": 4,
 "nbformat_minor": 2
}
