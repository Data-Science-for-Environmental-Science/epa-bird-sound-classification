{
 "cells": [
  {
   "cell_type": "code",
   "execution_count": null,
   "metadata": {},
   "outputs": [],
   "source": [
    "from dotenv import load_dotenv\n",
    "import awswrangler as wr\n",
    "import os\n",
    "from pathlib import Path\n",
    "import boto3\n",
    "\n",
    "if \"notebook\" in os.getcwd():\n",
    "    os.chdir(\"..\")\n",
    "\n",
    "load_dotenv()"
   ]
  },
  {
   "cell_type": "code",
   "execution_count": null,
   "metadata": {},
   "outputs": [],
   "source": [
    "client = boto3.client('sts')\n",
    "assume_role_response = client.assume_role(\n",
    "    RoleArn=os.environ[\"role_arn\"],\n",
    "    RoleSessionName=\"test-read-access\",\n",
    ")\n",
    "sts_credentials = assume_role_response[\"Credentials\"]"
   ]
  },
  {
   "cell_type": "code",
   "execution_count": null,
   "metadata": {},
   "outputs": [],
   "source": [
    "boto3_session = boto3.Session(\n",
    "    aws_access_key_id=sts_credentials[\"AccessKeyId\"],\n",
    "    aws_secret_access_key=sts_credentials[\"SecretAccessKey\"],\n",
    "    aws_session_token=sts_credentials[\"SessionToken\"],\n",
    "    region_name=\"us-east-1\"\n",
    ")\n",
    "\n",
    "s3_client = boto3_session.client(\"s3\")"
   ]
  },
  {
   "cell_type": "code",
   "execution_count": null,
   "metadata": {},
   "outputs": [],
   "source": [
    "# arbitrarily select an object from the bucket to test access\n",
    "epa_bucket = os.environ['epa_bucket']\n",
    "response = s3_client.list_objects_v2(Bucket=epa_bucket)"
   ]
  },
  {
   "cell_type": "code",
   "execution_count": null,
   "metadata": {},
   "outputs": [],
   "source": [
    "# test copying over an object\n",
    "object_key = response['Contents'][1]['Key']\n",
    "\n",
    "copy_response = wr.s3.copy_objects(\n",
    "    paths=[f\"s3://{epa_bucket}/{object_key}\"],\n",
    "    source_path=f\"s3://{epa_bucket}/{str(Path(object_key).parent)}/\",\n",
    "    target_path=\"s3://mtsu-test-bucket-sample/audio-files/\",\n",
    "    boto3_session=boto3_session\n",
    ")"
   ]
  }
 ],
 "metadata": {
  "kernelspec": {
   "display_name": "epa-bird-sound-classification-MJ8b57BN-py3.10",
   "language": "python",
   "name": "python3"
  },
  "language_info": {
   "codemirror_mode": {
    "name": "ipython",
    "version": 3
   },
   "file_extension": ".py",
   "mimetype": "text/x-python",
   "name": "python",
   "nbconvert_exporter": "python",
   "pygments_lexer": "ipython3",
   "version": "3.10.9"
  },
  "orig_nbformat": 4
 },
 "nbformat": 4,
 "nbformat_minor": 2
}
